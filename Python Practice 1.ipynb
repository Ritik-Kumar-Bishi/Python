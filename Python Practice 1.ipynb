{
 "cells": [
  {
   "cell_type": "code",
   "execution_count": 1,
   "metadata": {},
   "outputs": [
    {
     "name": "stdout",
     "output_type": "stream",
     "text": [
      "Enter the distance in Km : 60\n",
      "For 60.0 Km distance in miles is : 37.28226 miles\n"
     ]
    }
   ],
   "source": [
    "# 1.Python Program to Convert Kilometers to Miles\n",
    "dkm=float(input('Enter the distance in Km : '))\n",
    "dm = 0.621371*dkm\n",
    "print('For %0.1f Km distance in miles is : %0.5f miles'%(dkm,dm))"
   ]
  },
  {
   "cell_type": "code",
   "execution_count": 2,
   "metadata": {},
   "outputs": [
    {
     "name": "stdout",
     "output_type": "stream",
     "text": [
      "Enter the temperature in Celsius : 38\n",
      "For 38.0 Celsius the temperature in Fahrenheit is : 100.40 miles\n"
     ]
    }
   ],
   "source": [
    "# 2.Python Program to Convert Celsius To Fahrenheit\n",
    "C=float(input('Enter the temperature in Celsius : '))\n",
    "F =(C*1.8)+32\n",
    "print('For %0.1f Celsius the temperature in Fahrenheit is : %0.2f miles'%(C,F))"
   ]
  },
  {
   "cell_type": "code",
   "execution_count": 9,
   "metadata": {},
   "outputs": [
    {
     "name": "stdout",
     "output_type": "stream",
     "text": [
      "Enter a number :5.66\n",
      "Entered number is positive\n"
     ]
    }
   ],
   "source": [
    "# 3.Python Program to Check if a Number is Positive, Negative or 0\n",
    "num=float(input('Enter a number :'))\n",
    "print('Entered number is zero') if num==0 else print('Entered number is positive') if num>0 else print('Entered number is negative')"
   ]
  },
  {
   "cell_type": "code",
   "execution_count": 13,
   "metadata": {},
   "outputs": [
    {
     "name": "stdout",
     "output_type": "stream",
     "text": [
      "Enter a number :2214566658\n",
      "Entered number is even\n"
     ]
    }
   ],
   "source": [
    "# 4.Python Program to Check if a Number is Odd or Even\n",
    "num=int(input('Enter a number :'))\n",
    "print('Entered number is even') if num%2==0 else print('Entered number is odd') "
   ]
  },
  {
   "cell_type": "code",
   "execution_count": 28,
   "metadata": {},
   "outputs": [
    {
     "name": "stdout",
     "output_type": "stream",
     "text": [
      "Enter a year :2012\n",
      "2012 is a leap year\n"
     ]
    }
   ],
   "source": [
    "# Python Program to Check Leap Year\n",
    "year=int(input('Enter a year :'))\n",
    "if year%4==0 and year%100!=0 or year%400==0:\n",
    "    print('{0} is a leap year'.format(year))\n",
    "else:\n",
    "    print('{0} is not a leap year'.format(year))"
   ]
  },
  {
   "cell_type": "code",
   "execution_count": 34,
   "metadata": {},
   "outputs": [
    {
     "name": "stdout",
     "output_type": "stream",
     "text": [
      "Enter the value of number 1 : 3\n",
      "Enter the value of number 2 : 4\n",
      "Enter the value of number 3 : 500\n",
      "500.000 is the largest number\n"
     ]
    }
   ],
   "source": [
    "# Python Program to Find the Largest Among Three Numbers\n",
    "a=float(input('Enter the value of number 1 : '))\n",
    "b=float(input('Enter the value of number 2 : '))\n",
    "c=float(input('Enter the value of number 3 : '))\n",
    "if a>b and a>c:\n",
    "    print('%0.3f is the largest number'%a)\n",
    "elif b>a and b>c:\n",
    "    print('%0.3f is the largest number'%b)\n",
    "else:\n",
    "    print('%0.3f is the largest number'%c)"
   ]
  },
  {
   "cell_type": "code",
   "execution_count": 48,
   "metadata": {},
   "outputs": [
    {
     "name": "stdout",
     "output_type": "stream",
     "text": [
      "Enter a number :100\n",
      "100 is not a prime number\n"
     ]
    }
   ],
   "source": [
    "# 7.Write a Python Program to check if a number is prime or not\n",
    "num=int(input('Enter a number :'))\n",
    "if num>1:\n",
    "    for i in range(2,num):\n",
    "        if num%i==0:\n",
    "            print('%d is not a prime number'%num)\n",
    "            break;\n",
    "    else:\n",
    "        print('%d is a prime number'%num)\n",
    "else:\n",
    "    print('%d is not a prime number'%num) "
   ]
  },
  {
   "cell_type": "code",
   "execution_count": 51,
   "metadata": {},
   "outputs": [
    {
     "name": "stdout",
     "output_type": "stream",
     "text": [
      "Enter lower interval :1\n",
      "Enter upper interval :20\n",
      "\n",
      "All the prime number between 1 and 20 are :\n",
      "2\n",
      "3\n",
      "5\n",
      "7\n",
      "11\n",
      "13\n",
      "17\n",
      "19\n"
     ]
    }
   ],
   "source": [
    "# Python program to display all the prime numbers within an interval\n",
    "itr1=int(input('Enter lower interval :'))\n",
    "itr2=int(input('Enter upper interval :'))\n",
    "print('\\nAll the prime number between',itr1,'and',itr2,'are :')\n",
    "\n",
    "for num in range(itr1,itr2+1):\n",
    "    if num>1:\n",
    "        for i in range(2,num):\n",
    "            if num%i==0:\n",
    "                break;\n",
    "        else:\n",
    "            print(num)\n",
    "   \n",
    "        "
   ]
  },
  {
   "cell_type": "code",
   "execution_count": 57,
   "metadata": {},
   "outputs": [
    {
     "name": "stdout",
     "output_type": "stream",
     "text": [
      "Enter a number :7\n",
      "Factorial of  7 is :\n",
      "5040\n"
     ]
    }
   ],
   "source": [
    "# 9.Python program to find the factorial of a number.\n",
    "num=int(input('Enter a number :'))\n",
    "print('Factorial of ',num,'is :')\n",
    "for i in range(1,num):\n",
    "    num=num*i\n",
    "    \n",
    "print(num)    "
   ]
  },
  {
   "cell_type": "code",
   "execution_count": 60,
   "metadata": {},
   "outputs": [
    {
     "name": "stdout",
     "output_type": "stream",
     "text": [
      "Enter the number whose table is to be displayed :11\n",
      "11 X 1 = 11\n",
      "11 X 2 = 22\n",
      "11 X 3 = 33\n",
      "11 X 4 = 44\n",
      "11 X 5 = 55\n",
      "11 X 6 = 66\n",
      "11 X 7 = 77\n",
      "11 X 8 = 88\n",
      "11 X 9 = 99\n",
      "11 X 10 = 110\n"
     ]
    }
   ],
   "source": [
    "# Python Program to Display the multiplication Table\n",
    "num = int(input('Enter the number whose table is to be displayed :'))\n",
    "for i in range(1,11):\n",
    "    print(num,'X',i,'=',num*i)"
   ]
  },
  {
   "cell_type": "code",
   "execution_count": 72,
   "metadata": {},
   "outputs": [
    {
     "name": "stdout",
     "output_type": "stream",
     "text": [
      "How many terms is to be printed? 11\n",
      "Fibonacci sequence:\n",
      "0  1  1  2  3  5  8  13  21  34  55  "
     ]
    }
   ],
   "source": [
    "# 11.Python Program to Print the Fibonacci sequence\n",
    "nterms = int(input(\"How many terms is to be printed? \"))  \n",
    "# first two terms  \n",
    "n1 = 0  \n",
    "n2 = 1  \n",
    "count = 2  \n",
    "# check if the number of terms is valid  \n",
    "if nterms <= 0:  \n",
    "    print(\"Plese enter a positive integer\")  \n",
    "elif nterms == 1:  \n",
    "    print(\"Fibonacci sequence:\")  \n",
    "    print(n1)  \n",
    "else:  \n",
    "    print(\"Fibonacci sequence:\")  \n",
    "    print(n1,'',n2,end='  ')  \n",
    "    while count < nterms:  \n",
    "        nth = n1 + n2  \n",
    "        print(nth,end='  ')  \n",
    "       # update values  \n",
    "        n1 = n2  \n",
    "        n2 = nth  \n",
    "        count += 1 "
   ]
  },
  {
   "cell_type": "code",
   "execution_count": 74,
   "metadata": {},
   "outputs": [
    {
     "name": "stdout",
     "output_type": "stream",
     "text": [
      "Enter a number: 153\n",
      "153 is an Armstrong number\n"
     ]
    }
   ],
   "source": [
    "# 12.Python Program to Check Armstrong Number (for 3 digits)\n",
    "num = int(input(\"Enter a number: \"))  \n",
    "add = 0  \n",
    "temp = num  \n",
    "  \n",
    "while temp>0:\n",
    "    digit = temp%10\n",
    "    add += digit**3\n",
    "    temp //= 10\n",
    "    \n",
    "if num==add:\n",
    "    print(num,'is an Armstrong number')\n",
    "else:\n",
    "    print(num,'is not an Armstrong number')"
   ]
  },
  {
   "cell_type": "code",
   "execution_count": 77,
   "metadata": {},
   "outputs": [
    {
     "name": "stdout",
     "output_type": "stream",
     "text": [
      "Enter a number: 121\n",
      "The cube of each digit is  10\n"
     ]
    }
   ],
   "source": [
    "# 14. find the sum of the cube of each digit\n",
    "num = int(input(\"Enter a number: \"))  \n",
    "add = 0  \n",
    "temp = num  \n",
    "  \n",
    "while temp>0:\n",
    "    digit = temp%10\n",
    "    add += digit**3\n",
    "    temp //= 10\n",
    "    \n",
    "print('The cube of each digit is ',add)"
   ]
  },
  {
   "cell_type": "code",
   "execution_count": 83,
   "metadata": {},
   "outputs": [
    {
     "name": "stdout",
     "output_type": "stream",
     "text": [
      "Enter lower interval :100\n",
      "Enter upper interval :2000\n",
      "\n",
      "All the Armstrong numbers between 100 and 2000 are :\n",
      "153\n",
      "370\n",
      "371\n",
      "407\n",
      "1634\n"
     ]
    }
   ],
   "source": [
    "# 15.Python Program to Find Armstrong Number in an Interval\n",
    "itr1=int(input('Enter lower interval :'))\n",
    "itr2=int(input('Enter upper interval :'))\n",
    "print('\\nAll the Armstrong numbers between',itr1,'and',itr2,'are :')\n",
    "\n",
    "for num in range(itr1,itr2+1):\n",
    "    temp=num\n",
    "    add=0\n",
    "    order = len(str(num))\n",
    "    while temp>0:\n",
    "        digit = temp%10\n",
    "        add += digit ** order\n",
    "        temp //= 10\n",
    "    if num==add:\n",
    "        print(num)    "
   ]
  },
  {
   "cell_type": "code",
   "execution_count": 86,
   "metadata": {},
   "outputs": [
    {
     "name": "stdout",
     "output_type": "stream",
     "text": [
      "Enter upto which natural number :10\n",
      "The sum first 10 natural numbers is 55\n"
     ]
    }
   ],
   "source": [
    "# 16.Python Program to Find the Sum of Natural Numbers\n",
    "N=int(input('Enter upto which natural number :'))\n",
    "add=0\n",
    "for i in range(1,N+1):\n",
    "    add=add+i\n",
    "print('The sum first',N,'natural numbers is',add)    "
   ]
  }
 ],
 "metadata": {
  "kernelspec": {
   "display_name": "Python 3",
   "language": "python",
   "name": "python3"
  },
  "language_info": {
   "codemirror_mode": {
    "name": "ipython",
    "version": 3
   },
   "file_extension": ".py",
   "mimetype": "text/x-python",
   "name": "python",
   "nbconvert_exporter": "python",
   "pygments_lexer": "ipython3",
   "version": "3.7.6"
  }
 },
 "nbformat": 4,
 "nbformat_minor": 4
}
