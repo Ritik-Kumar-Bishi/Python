{
 "cells": [
  {
   "cell_type": "code",
   "execution_count": 9,
   "metadata": {},
   "outputs": [
    {
     "name": "stdout",
     "output_type": "stream",
     "text": [
      "Enter the number of terms :8\n",
      "Total number of iterations to be displayed are 8:\n",
      "\n",
      "2 raised to the power 0 is 1\n",
      "2 raised to the power 1 is 2\n",
      "2 raised to the power 2 is 4\n",
      "2 raised to the power 3 is 8\n",
      "2 raised to the power 4 is 16\n",
      "2 raised to the power 5 is 32\n",
      "2 raised to the power 6 is 64\n",
      "2 raised to the power 7 is 128\n"
     ]
    }
   ],
   "source": [
    "# Python Program To Display Powers of 2 Using Anonymous Function Display\n",
    "terms = int(input('Enter the number of terms :'))\n",
    "res = list(map(lambda x: 2**x , range(terms)))\n",
    "print('Total number of iterations to be displayed are %d:\\n'%terms)\n",
    "for i in range(terms):\n",
    "    print('2 raised to the power',i,'is',res[i])"
   ]
  },
  {
   "cell_type": "code",
   "execution_count": 10,
   "metadata": {},
   "outputs": [
    {
     "name": "stdout",
     "output_type": "stream",
     "text": [
      "Enter the numbers separated by spaces: 5 44 82 10 66 1 22\n",
      "Enter the divisible number: 11\n",
      "The numbers divisible by 11 are [44, 66, 22]\n"
     ]
    }
   ],
   "source": [
    "# Python Program to Find Numbers Divisible by Another Number\n",
    "num_list = list (map(int, input(\"Enter the numbers separated by spaces: \").split()))\n",
    "n= int(input(\"Enter the divisible number: \"))\n",
    "result = list(filter(lambda x:x%n==0 , num_list))\n",
    "print(\"The numbers divisible by\",n, \"are\",result)"
   ]
  },
  {
   "cell_type": "code",
   "execution_count": 12,
   "metadata": {},
   "outputs": [
    {
     "name": "stdout",
     "output_type": "stream",
     "text": [
      "Enter the decimal value : 4\n",
      "The Binary valu of 4 is 100\n"
     ]
    }
   ],
   "source": [
    "# Python Program to Convert Decimal to Binary\n",
    "dec = int(input('Enter the decimal value : '))\n",
    "binary = bin(dec).replace('0b','')\n",
    "print('The Binary valu of',dec,'is',binary)"
   ]
  },
  {
   "cell_type": "code",
   "execution_count": 13,
   "metadata": {},
   "outputs": [
    {
     "name": "stdout",
     "output_type": "stream",
     "text": [
      "Enter the decimal value : 11\n",
      "The Binary valu of 11 is b\n"
     ]
    }
   ],
   "source": [
    "# Python Program to Convert Decimal to Hexadecimal\n",
    "dec = int(input('Enter the decimal value : '))\n",
    "binary = hex(dec).replace('0x','')\n",
    "print('The Binary valu of',dec,'is',binary)"
   ]
  },
  {
   "cell_type": "code",
   "execution_count": 27,
   "metadata": {},
   "outputs": [
    {
     "name": "stdout",
     "output_type": "stream",
     "text": [
      "Enter the caracter :A\n",
      "The ASCII value of 'A' is 65\n"
     ]
    }
   ],
   "source": [
    "# Python Program to Find ASCII Value of Character\n",
    "c = input(\"Enter the caracter :\")\n",
    "print('The ASCII value of %r is %d'%(c,ord(c)))"
   ]
  },
  {
   "cell_type": "code",
   "execution_count": 32,
   "metadata": {},
   "outputs": [
    {
     "name": "stdout",
     "output_type": "stream",
     "text": [
      "Enter the first number : 12\n",
      "Enter the second number : 4\n",
      "The HCF of 12 and 4 is 4\n"
     ]
    }
   ],
   "source": [
    "# 22.Python Program to Find HCF or GCD\n",
    "num1 = int(input('Enter the first number : '))\n",
    "num2 = int(input('Enter the second number : '))\n",
    "if num1<num2:\n",
    "    small=num1\n",
    "else:\n",
    "    small=num2\n",
    "\n",
    "for i in range (1,small+1):\n",
    "    if num1%i==0 and num2%i==0:\n",
    "        hcf=i\n",
    "print('The HCF of %d and %d is %d'%(num1,num2,hcf))        "
   ]
  },
  {
   "cell_type": "code",
   "execution_count": 34,
   "metadata": {},
   "outputs": [
    {
     "name": "stdout",
     "output_type": "stream",
     "text": [
      "Enter the first number : 9\n",
      "Enter the second number : 27\n",
      "The HCF of 9 and 27 is 9\n"
     ]
    }
   ],
   "source": [
    "# 23.Write a python function to find HCf or GCD and return the value\n",
    "def find_gcd(x,y):\n",
    "    if x<y:\n",
    "        small=x\n",
    "    else:\n",
    "        small=y\n",
    "    for i in range(1,small+1):\n",
    "        if x%i==0 and y%i==0:\n",
    "            gcd=i\n",
    "    return gcd\n",
    "num1 = int(input('Enter the first number : '))\n",
    "num2 = int(input('Enter the second number : '))\n",
    "print('The HCF of %d and %d is %d'%(num1,num2,find_gcd(num1,num2))) "
   ]
  },
  {
   "cell_type": "code",
   "execution_count": 38,
   "metadata": {},
   "outputs": [
    {
     "name": "stdout",
     "output_type": "stream",
     "text": [
      "Enter the first number : 24\n",
      "Enter the second number : 54\n",
      "The HCF of 24 and 54 is 6\n"
     ]
    }
   ],
   "source": [
    "# Write a python function to find HCf or GCD and return the value using euclidian Algorithm\n",
    "def find_gcd(x, y):\n",
    "    while(y):\n",
    "        x, y = y, x % y\n",
    "    return x\n",
    "\n",
    "num1 = int(input('Enter the first number : '))\n",
    "num2 = int(input('Enter the second number : '))\n",
    "print('The HCF of %d and %d is %d'%(num1,num2,find_gcd(num1,num2))) "
   ]
  },
  {
   "cell_type": "code",
   "execution_count": 40,
   "metadata": {},
   "outputs": [
    {
     "name": "stdout",
     "output_type": "stream",
     "text": [
      "Enter the first number : 18\n",
      "Enter the second number : 24\n",
      "The HCF is 6\n"
     ]
    }
   ],
   "source": [
    " # 25.Write a python program to find HCf or GCD using euclidian Algorithm\n",
    "x = int(input('Enter the first number : '))\n",
    "y = int(input('Enter the second number : '))  \n",
    "\n",
    "while(y):\n",
    "    x, y = y, x % y\n",
    "gcd=x\n",
    "print('The HCF is %d'%gcd) "
   ]
  },
  {
   "cell_type": "code",
   "execution_count": 44,
   "metadata": {},
   "outputs": [
    {
     "name": "stdout",
     "output_type": "stream",
     "text": [
      "Enter the first number : 54\n",
      "Enter the second number : 16\n",
      "The HCF of 54 and 16 is 432\n"
     ]
    }
   ],
   "source": [
    "# Python Program to Find LCM\n",
    "num1 = int(input('Enter the first number : '))\n",
    "num2 = int(input('Enter the second number : '))\n",
    "if num1<num2:\n",
    "    big=num2\n",
    "else:\n",
    "    big=num1\n",
    "\n",
    "while True:\n",
    "    if big%num1==0 and big%num2==0:\n",
    "        lcm=big\n",
    "        break;\n",
    "    big+=1    \n",
    "print('The HCF of %d and %d is %d'%(num1,num2,lcm))"
   ]
  },
  {
   "cell_type": "code",
   "execution_count": 45,
   "metadata": {},
   "outputs": [
    {
     "name": "stdout",
     "output_type": "stream",
     "text": [
      "Enter the first number : 24\n",
      "Enter the second number : 16\n",
      "The HCF of 24 and 16 is 48\n"
     ]
    }
   ],
   "source": [
    "# 27.write a Python function to Find LCM and returb the value\n",
    "def find_lcm(x,y):\n",
    "    if x<y:\n",
    "        big=y\n",
    "    else:\n",
    "        big=x\n",
    "    while True:\n",
    "        if big%num1==0 and big%num2==0:\n",
    "            lcm=big\n",
    "            break;\n",
    "        big+=1     \n",
    "    \n",
    "    return lcm\n",
    "num1 = int(input('Enter the first number : '))\n",
    "num2 = int(input('Enter the second number : '))\n",
    "print('The HCF of %d and %d is %d'%(num1,num2,find_lcm(num1,num2))) "
   ]
  },
  {
   "cell_type": "code",
   "execution_count": 47,
   "metadata": {},
   "outputs": [
    {
     "name": "stdout",
     "output_type": "stream",
     "text": [
      "Enter the first number : 24\n",
      "Enter the second number : 16\n",
      "The HCF of 24 and 16 is 48\n"
     ]
    }
   ],
   "source": [
    "# Python Program to Compute LCM Using GCD\n",
    "def find_gcd(x, y):\n",
    "    while(y):\n",
    "        x, y = y, x % y\n",
    "    return x\n",
    "def find_lcm1(z,c):\n",
    "    lcm=(z*c)//find_gcd(z,c)\n",
    "    return lcm\n",
    "num1 = int(input('Enter the first number : '))\n",
    "num2 = int(input('Enter the second number : '))\n",
    "print('The HCF of %d and %d is %d'%(num1,num2,find_lcm1(num1,num2)))"
   ]
  },
  {
   "cell_type": "code",
   "execution_count": 50,
   "metadata": {},
   "outputs": [
    {
     "name": "stdout",
     "output_type": "stream",
     "text": [
      "Enter a number : 64\n",
      "The factors of 64 are : \n",
      "1\n",
      "2\n",
      "4\n",
      "8\n",
      "16\n",
      "32\n",
      "64\n"
     ]
    }
   ],
   "source": [
    "# 29.Python funcction to Find the Factors of a Number\n",
    "def find_factors(x):\n",
    "    print('The factors of',x,'are : ')\n",
    "    for i in range(1,x+1):\n",
    "        if x%i==0:\n",
    "            print(i)\n",
    "            \n",
    "num = int(input('Enter a number : '))\n",
    "\n",
    "find_factors(num)"
   ]
  }
 ],
 "metadata": {
  "kernelspec": {
   "display_name": "Python 3",
   "language": "python",
   "name": "python3"
  },
  "language_info": {
   "codemirror_mode": {
    "name": "ipython",
    "version": 3
   },
   "file_extension": ".py",
   "mimetype": "text/x-python",
   "name": "python",
   "nbconvert_exporter": "python",
   "pygments_lexer": "ipython3",
   "version": "3.7.6"
  }
 },
 "nbformat": 4,
 "nbformat_minor": 4
}
